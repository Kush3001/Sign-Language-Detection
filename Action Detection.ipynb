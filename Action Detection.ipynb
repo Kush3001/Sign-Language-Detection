{
 "cells": [
  {
   "cell_type": "code",
   "execution_count": 1,
   "id": "d35c0e2d",
   "metadata": {
    "collapsed": true
   },
   "outputs": [
    {
     "name": "stdout",
     "output_type": "stream",
     "text": [
      "Collecting tensorflow==2.9.2\n",
      "  Downloading tensorflow-2.9.2-cp39-cp39-win_amd64.whl (444.1 MB)\n",
      "     -------------------------------------- 444.1/444.1 MB 4.3 MB/s eta 0:00:00\n",
      "Collecting tensorflow-gpu==2.9.2\n",
      "  Downloading tensorflow_gpu-2.9.2-cp39-cp39-win_amd64.whl (444.1 MB)\n",
      "     -------------------------------------- 444.1/444.1 MB 4.2 MB/s eta 0:00:00\n",
      "Requirement already satisfied: opencv-python in c:\\users\\kiit\\miniconda3\\envs\\envpytorch\\lib\\site-packages (4.6.0.66)\n",
      "Requirement already satisfied: mediapipe in c:\\users\\kiit\\miniconda3\\envs\\envpytorch\\lib\\site-packages (0.8.11)\n",
      "Requirement already satisfied: matplotlib in c:\\users\\kiit\\miniconda3\\envs\\envpytorch\\lib\\site-packages (3.5.2)\n",
      "Requirement already satisfied: absl-py>=1.0.0 in c:\\users\\kiit\\miniconda3\\envs\\envpytorch\\lib\\site-packages (from tensorflow==2.9.2) (1.3.0)\n",
      "Requirement already satisfied: google-pasta>=0.1.1 in c:\\users\\kiit\\miniconda3\\envs\\envpytorch\\lib\\site-packages (from tensorflow==2.9.2) (0.2.0)\n",
      "Requirement already satisfied: gast<=0.4.0,>=0.2.1 in c:\\users\\kiit\\miniconda3\\envs\\envpytorch\\lib\\site-packages (from tensorflow==2.9.2) (0.4.0)\n",
      "Requirement already satisfied: astunparse>=1.6.0 in c:\\users\\kiit\\miniconda3\\envs\\envpytorch\\lib\\site-packages (from tensorflow==2.9.2) (1.6.3)\n",
      "Requirement already satisfied: h5py>=2.9.0 in c:\\users\\kiit\\miniconda3\\envs\\envpytorch\\lib\\site-packages (from tensorflow==2.9.2) (3.7.0)\n",
      "Requirement already satisfied: tensorflow-estimator<2.10.0,>=2.9.0rc0 in c:\\users\\kiit\\miniconda3\\envs\\envpytorch\\lib\\site-packages (from tensorflow==2.9.2) (2.9.0)\n",
      "Requirement already satisfied: termcolor>=1.1.0 in c:\\users\\kiit\\miniconda3\\envs\\envpytorch\\lib\\site-packages (from tensorflow==2.9.2) (2.0.1)\n",
      "Requirement already satisfied: wrapt>=1.11.0 in c:\\users\\kiit\\miniconda3\\envs\\envpytorch\\lib\\site-packages (from tensorflow==2.9.2) (1.14.1)\n",
      "Requirement already satisfied: opt-einsum>=2.3.2 in c:\\users\\kiit\\miniconda3\\envs\\envpytorch\\lib\\site-packages (from tensorflow==2.9.2) (3.3.0)\n",
      "Requirement already satisfied: protobuf<3.20,>=3.9.2 in c:\\users\\kiit\\miniconda3\\envs\\envpytorch\\lib\\site-packages (from tensorflow==2.9.2) (3.19.6)\n",
      "Requirement already satisfied: keras<2.10.0,>=2.9.0rc0 in c:\\users\\kiit\\miniconda3\\envs\\envpytorch\\lib\\site-packages (from tensorflow==2.9.2) (2.9.0)\n",
      "Requirement already satisfied: six>=1.12.0 in c:\\users\\kiit\\miniconda3\\envs\\envpytorch\\lib\\site-packages (from tensorflow==2.9.2) (1.16.0)\n",
      "Requirement already satisfied: packaging in c:\\users\\kiit\\miniconda3\\envs\\envpytorch\\lib\\site-packages (from tensorflow==2.9.2) (21.3)\n",
      "Requirement already satisfied: tensorboard<2.10,>=2.9 in c:\\users\\kiit\\miniconda3\\envs\\envpytorch\\lib\\site-packages (from tensorflow==2.9.2) (2.9.1)\n",
      "Requirement already satisfied: grpcio<2.0,>=1.24.3 in c:\\users\\kiit\\miniconda3\\envs\\envpytorch\\lib\\site-packages (from tensorflow==2.9.2) (1.50.0)\n",
      "Requirement already satisfied: keras-preprocessing>=1.1.1 in c:\\users\\kiit\\miniconda3\\envs\\envpytorch\\lib\\site-packages (from tensorflow==2.9.2) (1.1.2)\n",
      "Requirement already satisfied: setuptools in c:\\users\\kiit\\miniconda3\\envs\\envpytorch\\lib\\site-packages (from tensorflow==2.9.2) (63.4.1)\n",
      "Requirement already satisfied: numpy>=1.20 in c:\\users\\kiit\\miniconda3\\envs\\envpytorch\\lib\\site-packages (from tensorflow==2.9.2) (1.21.5)\n",
      "Requirement already satisfied: flatbuffers<2,>=1.12 in c:\\users\\kiit\\miniconda3\\envs\\envpytorch\\lib\\site-packages (from tensorflow==2.9.2) (1.12)\n",
      "Requirement already satisfied: tensorflow-io-gcs-filesystem>=0.23.1 in c:\\users\\kiit\\miniconda3\\envs\\envpytorch\\lib\\site-packages (from tensorflow==2.9.2) (0.27.0)\n",
      "Requirement already satisfied: typing-extensions>=3.6.6 in c:\\users\\kiit\\miniconda3\\envs\\envpytorch\\lib\\site-packages (from tensorflow==2.9.2) (4.3.0)\n",
      "Requirement already satisfied: libclang>=13.0.0 in c:\\users\\kiit\\miniconda3\\envs\\envpytorch\\lib\\site-packages (from tensorflow==2.9.2) (14.0.6)\n",
      "Requirement already satisfied: attrs>=19.1.0 in c:\\users\\kiit\\miniconda3\\envs\\envpytorch\\lib\\site-packages (from mediapipe) (21.4.0)\n",
      "Requirement already satisfied: opencv-contrib-python in c:\\users\\kiit\\miniconda3\\envs\\envpytorch\\lib\\site-packages (from mediapipe) (4.6.0.66)\n",
      "Requirement already satisfied: python-dateutil>=2.7 in c:\\users\\kiit\\miniconda3\\envs\\envpytorch\\lib\\site-packages (from matplotlib) (2.8.2)\n",
      "Requirement already satisfied: pillow>=6.2.0 in c:\\users\\kiit\\miniconda3\\envs\\envpytorch\\lib\\site-packages (from matplotlib) (9.2.0)\n",
      "Requirement already satisfied: cycler>=0.10 in c:\\users\\kiit\\miniconda3\\envs\\envpytorch\\lib\\site-packages (from matplotlib) (0.11.0)\n",
      "Requirement already satisfied: kiwisolver>=1.0.1 in c:\\users\\kiit\\miniconda3\\envs\\envpytorch\\lib\\site-packages (from matplotlib) (1.4.2)\n",
      "Requirement already satisfied: fonttools>=4.22.0 in c:\\users\\kiit\\miniconda3\\envs\\envpytorch\\lib\\site-packages (from matplotlib) (4.25.0)\n",
      "Requirement already satisfied: pyparsing>=2.2.1 in c:\\users\\kiit\\miniconda3\\envs\\envpytorch\\lib\\site-packages (from matplotlib) (3.0.9)\n",
      "Requirement already satisfied: wheel<1.0,>=0.23.0 in c:\\users\\kiit\\miniconda3\\envs\\envpytorch\\lib\\site-packages (from astunparse>=1.6.0->tensorflow==2.9.2) (0.37.1)\n",
      "Requirement already satisfied: tensorboard-data-server<0.7.0,>=0.6.0 in c:\\users\\kiit\\miniconda3\\envs\\envpytorch\\lib\\site-packages (from tensorboard<2.10,>=2.9->tensorflow==2.9.2) (0.6.1)\n",
      "Requirement already satisfied: requests<3,>=2.21.0 in c:\\users\\kiit\\miniconda3\\envs\\envpytorch\\lib\\site-packages (from tensorboard<2.10,>=2.9->tensorflow==2.9.2) (2.28.1)\n",
      "Requirement already satisfied: tensorboard-plugin-wit>=1.6.0 in c:\\users\\kiit\\miniconda3\\envs\\envpytorch\\lib\\site-packages (from tensorboard<2.10,>=2.9->tensorflow==2.9.2) (1.8.1)\n",
      "Requirement already satisfied: werkzeug>=1.0.1 in c:\\users\\kiit\\miniconda3\\envs\\envpytorch\\lib\\site-packages (from tensorboard<2.10,>=2.9->tensorflow==2.9.2) (2.2.2)\n",
      "Requirement already satisfied: google-auth-oauthlib<0.5,>=0.4.1 in c:\\users\\kiit\\miniconda3\\envs\\envpytorch\\lib\\site-packages (from tensorboard<2.10,>=2.9->tensorflow==2.9.2) (0.4.6)\n",
      "Requirement already satisfied: markdown>=2.6.8 in c:\\users\\kiit\\miniconda3\\envs\\envpytorch\\lib\\site-packages (from tensorboard<2.10,>=2.9->tensorflow==2.9.2) (3.4.1)\n",
      "Requirement already satisfied: google-auth<3,>=1.6.3 in c:\\users\\kiit\\miniconda3\\envs\\envpytorch\\lib\\site-packages (from tensorboard<2.10,>=2.9->tensorflow==2.9.2) (2.13.0)\n",
      "Requirement already satisfied: cachetools<6.0,>=2.0.0 in c:\\users\\kiit\\miniconda3\\envs\\envpytorch\\lib\\site-packages (from google-auth<3,>=1.6.3->tensorboard<2.10,>=2.9->tensorflow==2.9.2) (5.2.0)\n",
      "Requirement already satisfied: pyasn1-modules>=0.2.1 in c:\\users\\kiit\\miniconda3\\envs\\envpytorch\\lib\\site-packages (from google-auth<3,>=1.6.3->tensorboard<2.10,>=2.9->tensorflow==2.9.2) (0.2.8)\n",
      "Requirement already satisfied: rsa<5,>=3.1.4 in c:\\users\\kiit\\miniconda3\\envs\\envpytorch\\lib\\site-packages (from google-auth<3,>=1.6.3->tensorboard<2.10,>=2.9->tensorflow==2.9.2) (4.9)\n",
      "Requirement already satisfied: requests-oauthlib>=0.7.0 in c:\\users\\kiit\\miniconda3\\envs\\envpytorch\\lib\\site-packages (from google-auth-oauthlib<0.5,>=0.4.1->tensorboard<2.10,>=2.9->tensorflow==2.9.2) (1.3.1)\n",
      "Requirement already satisfied: importlib-metadata>=4.4 in c:\\users\\kiit\\miniconda3\\envs\\envpytorch\\lib\\site-packages (from markdown>=2.6.8->tensorboard<2.10,>=2.9->tensorflow==2.9.2) (4.11.3)\n",
      "Requirement already satisfied: charset-normalizer<3,>=2 in c:\\users\\kiit\\miniconda3\\envs\\envpytorch\\lib\\site-packages (from requests<3,>=2.21.0->tensorboard<2.10,>=2.9->tensorflow==2.9.2) (2.0.4)\n",
      "Requirement already satisfied: urllib3<1.27,>=1.21.1 in c:\\users\\kiit\\miniconda3\\envs\\envpytorch\\lib\\site-packages (from requests<3,>=2.21.0->tensorboard<2.10,>=2.9->tensorflow==2.9.2) (1.26.11)\n",
      "Requirement already satisfied: certifi>=2017.4.17 in c:\\users\\kiit\\miniconda3\\envs\\envpytorch\\lib\\site-packages (from requests<3,>=2.21.0->tensorboard<2.10,>=2.9->tensorflow==2.9.2) (2022.9.24)\n",
      "Requirement already satisfied: idna<4,>=2.5 in c:\\users\\kiit\\miniconda3\\envs\\envpytorch\\lib\\site-packages (from requests<3,>=2.21.0->tensorboard<2.10,>=2.9->tensorflow==2.9.2) (3.4)\n",
      "Requirement already satisfied: MarkupSafe>=2.1.1 in c:\\users\\kiit\\miniconda3\\envs\\envpytorch\\lib\\site-packages (from werkzeug>=1.0.1->tensorboard<2.10,>=2.9->tensorflow==2.9.2) (2.1.1)\n",
      "Requirement already satisfied: zipp>=0.5 in c:\\users\\kiit\\miniconda3\\envs\\envpytorch\\lib\\site-packages (from importlib-metadata>=4.4->markdown>=2.6.8->tensorboard<2.10,>=2.9->tensorflow==2.9.2) (3.8.0)\n",
      "Requirement already satisfied: pyasn1<0.5.0,>=0.4.6 in c:\\users\\kiit\\miniconda3\\envs\\envpytorch\\lib\\site-packages (from pyasn1-modules>=0.2.1->google-auth<3,>=1.6.3->tensorboard<2.10,>=2.9->tensorflow==2.9.2) (0.4.8)\n",
      "Requirement already satisfied: oauthlib>=3.0.0 in c:\\users\\kiit\\miniconda3\\envs\\envpytorch\\lib\\site-packages (from requests-oauthlib>=0.7.0->google-auth-oauthlib<0.5,>=0.4.1->tensorboard<2.10,>=2.9->tensorflow==2.9.2) (3.2.2)\n",
      "Installing collected packages: tensorflow-gpu, tensorflow\n",
      "  Attempting uninstall: tensorflow-gpu\n",
      "    Found existing installation: tensorflow-gpu 2.9.1\n",
      "    Uninstalling tensorflow-gpu-2.9.1:\n",
      "      Successfully uninstalled tensorflow-gpu-2.9.1\n",
      "  Attempting uninstall: tensorflow\n",
      "    Found existing installation: tensorflow 2.9.1\n",
      "    Uninstalling tensorflow-2.9.1:\n",
      "      Successfully uninstalled tensorflow-2.9.1\n",
      "Successfully installed tensorflow-2.9.2 tensorflow-gpu-2.9.2\n"
     ]
    }
   ],
   "source": [
    "!pip install tensorflow==2.9.2 tensorflow-gpu==2.9.2 opencv-python mediapipe matplotlib"
   ]
  },
  {
   "cell_type": "code",
   "execution_count": 3,
   "id": "42db7d88",
   "metadata": {},
   "outputs": [],
   "source": [
    "import cv2 as cv\n",
    "import numpy as np\n",
    "from matplotlib import pyplot as plt\n",
    "import time\n",
    "import mediapipe as mp\n",
    "import os"
   ]
  },
  {
   "cell_type": "code",
   "execution_count": 6,
   "id": "d2ecea53",
   "metadata": {},
   "outputs": [],
   "source": [
    "mp_holistic=mp.solutions.holistic  #Holistic Model\n",
    "mp_drawing=mp.solutions.drawing_utils  #Drawing Utilities"
   ]
  },
  {
   "cell_type": "code",
   "execution_count": 7,
   "id": "f8f7a3bc",
   "metadata": {},
   "outputs": [],
   "source": [
    "def mediapipe_detection(image,model):\n",
    "    image=cv.cvtColor(image,cv.COLOR_BGR2RGB)\n",
    "    image.flags.writeable=False\n",
    "    results=model.process(image)    #Making Pridictions\n",
    "    image.flags.writeable=True\n",
    "    image=cv.cvtColor(image,cv.COLOR_RGB2BGR)\n",
    "    return image,results"
   ]
  },
  {
   "cell_type": "code",
   "execution_count": 10,
   "id": "dd13a190",
   "metadata": {},
   "outputs": [],
   "source": [
    "cap=cv.VideoCapture(0)\n",
    "# To access mediapipe model:\n",
    "with mp_holistic.Holistic(min_detection_confidence=0.5,min_tracking_confidence=0.5) as holistic:\n",
    "    while cap.isOpened():\n",
    "        ret,frame=cap.read()\n",
    "        image,results=mediapipe_detection(frame,holistic)\n",
    "        cv.imshow('Feed',frame)\n",
    "        if cv.waitKey(10) & 0xFF==ord('q'):\n",
    "            break\n",
    "    cap.release()\n",
    "    cv.destroyAllWindows()"
   ]
  },
  {
   "cell_type": "code",
   "execution_count": null,
   "id": "80a5fd05",
   "metadata": {},
   "outputs": [],
   "source": []
  }
 ],
 "metadata": {
  "kernelspec": {
   "display_name": "Python 3 (ipykernel)",
   "language": "python",
   "name": "python3"
  },
  "language_info": {
   "codemirror_mode": {
    "name": "ipython",
    "version": 3
   },
   "file_extension": ".py",
   "mimetype": "text/x-python",
   "name": "python",
   "nbconvert_exporter": "python",
   "pygments_lexer": "ipython3",
   "version": "3.9.13"
  }
 },
 "nbformat": 4,
 "nbformat_minor": 5
}
